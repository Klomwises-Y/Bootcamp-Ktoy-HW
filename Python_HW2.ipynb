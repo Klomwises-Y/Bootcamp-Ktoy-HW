{
  "nbformat": 4,
  "nbformat_minor": 0,
  "metadata": {
    "colab": {
      "provenance": []
    },
    "kernelspec": {
      "name": "python3",
      "display_name": "Python 3"
    },
    "language_info": {
      "name": "python"
    }
  },
  "cells": [
    {
      "cell_type": "code",
      "source": [
        "#HW2 ATM class with 5 methods\n",
        "import datetime\n",
        "class ATM:\n",
        "  #initialize\n",
        "  def __init__ (self, name, banks , balance, password, phone_number):\n",
        "    self.name = name\n",
        "    self.banks = banks\n",
        "    self.balance = balance\n",
        "    self.password = password\n",
        "    self.phone_number = phone_number\n",
        "\n",
        "  def login(self):\n",
        "    user_password = input('Enter your passwrod')\n",
        "    if(user_password == self.password):\n",
        "      print(\"Login sucessfully\")\n",
        "    else:\n",
        "      print(\"Login failed\")\n",
        "\n",
        "  def cardless(self):\n",
        "    phone = input('Enter your phone number:')\n",
        "    str(self.phone_number)\n",
        "    if(phone == self.phone_number):\n",
        "      print(\"Welcome to cardless ATM\")\n",
        "    else:\n",
        "      print(\"Sorry, phone number incorrect.\")\n",
        "\n",
        "  def withdraw(self):\n",
        "    while True:\n",
        "      withdrawn_amount = input(\"Withdrawn Amount: \")\n",
        "      withdrawn_amount = int(withdrawn_amount)\n",
        "      check_banknotes = withdrawn_amount % 100\n",
        "      if(withdrawn_amount > self.balance):\n",
        "        print(f\"Sorry, withdrawn Amount cannot exceed the account balance ({self.balance} Baht.)\")\n",
        "      elif(withdrawn_amount <= self.balance and check_banknotes == 0):\n",
        "        print(\"Please take your cash.\")\n",
        "        print(f\"The available Balance is {self.balance - withdrawn_amount} Baht.\")\n",
        "        now = datetime.datetime.now()\n",
        "        print(f\"Transaction date: {now.strftime('%Y-%m-%d %H:%M:%S')}.\")\n",
        "        break\n",
        "      else:\n",
        "        print(\"Sorry, available banknotes are 100, 500, and 1000 Bath.\")\n",
        "\n",
        "  def transfer(self):\n",
        "    rbank_name = input('Recipient bank name:')\n",
        "    rbank_account = input('Recipient bank account:')\n",
        "    transfer_amount = input('Please enter amount:')\n",
        "    transfer_amount = int(transfer_amount)\n",
        "    print(f\"Tranfers {transfer_amount} Bath to {rbank_name} account {rbank_account}.\")\n",
        "    print(f\"The available Balance is {self.balance - transfer_amount} Baht.\")\n",
        "    now = datetime.datetime.now()\n",
        "\n",
        "  def logout(self):\n",
        "    print(\"Please take your card.\")\n"
      ],
      "metadata": {
        "id": "dDGjyDcAsJPS"
      },
      "execution_count": 33,
      "outputs": []
    },
    {
      "cell_type": "code",
      "source": [
        "atm1 = ATM(\"Ger\", \"SCB\", 25000, \"ttt871\", \"0894556325\")"
      ],
      "metadata": {
        "id": "k_JPA2tisKgS"
      },
      "execution_count": 31,
      "outputs": []
    },
    {
      "cell_type": "code",
      "source": [
        "atm1.login()"
      ],
      "metadata": {
        "colab": {
          "base_uri": "https://localhost:8080/"
        },
        "id": "87DCZ5fnuh8e",
        "outputId": "681c841e-0960-4fb0-f22b-a92f440c72c9"
      },
      "execution_count": 26,
      "outputs": [
        {
          "output_type": "stream",
          "name": "stdout",
          "text": [
            "Enter your passwrodttt871\n",
            "Login sucessfully\n"
          ]
        }
      ]
    },
    {
      "cell_type": "code",
      "source": [
        "atm1.cardless()"
      ],
      "metadata": {
        "colab": {
          "base_uri": "https://localhost:8080/"
        },
        "id": "pTglnR-41shd",
        "outputId": "1da11a02-be61-43db-91c4-f6a1bf0abbb3"
      },
      "execution_count": 28,
      "outputs": [
        {
          "output_type": "stream",
          "name": "stdout",
          "text": [
            "Enter your phone number:0894556325\n",
            "Welcome to cardless ATM\n"
          ]
        }
      ]
    },
    {
      "cell_type": "code",
      "source": [
        "atm1.withdraw()"
      ],
      "metadata": {
        "id": "YWV3XfrMug6F",
        "colab": {
          "base_uri": "https://localhost:8080/"
        },
        "outputId": "176d4781-47df-4455-85b0-7666c05f2a6a"
      },
      "execution_count": 27,
      "outputs": [
        {
          "output_type": "stream",
          "name": "stdout",
          "text": [
            "Withdrawn Amount: 520\n",
            "Sorry, available banknotes are 100, 500, and 1000 Bath.\n",
            "Withdrawn Amount: 500\n",
            "Please take your cash.\n",
            "The available Balance is 24500 Baht.\n",
            "Transaction date: 2023-09-08 12:49:09.\n"
          ]
        }
      ]
    },
    {
      "cell_type": "code",
      "source": [
        "atm1.transfer()"
      ],
      "metadata": {
        "colab": {
          "base_uri": "https://localhost:8080/"
        },
        "id": "a2tr-E7M1z6z",
        "outputId": "e4d09f3c-bec9-45e3-c3fe-539bfceb34d2"
      },
      "execution_count": 32,
      "outputs": [
        {
          "output_type": "stream",
          "name": "stdout",
          "text": [
            "Recipient bank name:Kbank\n",
            "Recipient bank account:054654145584\n",
            "Please enter amount:5000\n",
            "Tranfers 5000 Bath to Kbank account 054654145584.\n",
            "The available Balance is 20000 Baht.\n"
          ]
        }
      ]
    },
    {
      "cell_type": "code",
      "source": [
        "atm1.logout()"
      ],
      "metadata": {
        "id": "VlCxLCYo2Pky",
        "outputId": "018b3485-6d20-4fc2-f6c6-323a60b7b16e",
        "colab": {
          "base_uri": "https://localhost:8080/"
        }
      },
      "execution_count": 34,
      "outputs": [
        {
          "output_type": "stream",
          "name": "stdout",
          "text": [
            "Please take your card.\n"
          ]
        }
      ]
    }
  ]
}