{
  "nbformat": 4,
  "nbformat_minor": 0,
  "metadata": {
    "colab": {
      "provenance": []
    },
    "kernelspec": {
      "name": "python3",
      "display_name": "Python 3"
    },
    "language_info": {
      "name": "python"
    }
  },
  "cells": [
    {
      "cell_type": "code",
      "execution_count": 1,
      "metadata": {
        "colab": {
          "base_uri": "https://localhost:8080/"
        },
        "id": "q_8SavqZKbGv",
        "outputId": "276c986e-e5e0-49d7-eb62-8545c3e2f9ec"
      },
      "outputs": [
        {
          "output_type": "execute_result",
          "data": {
            "text/plain": [
              "200"
            ]
          },
          "metadata": {},
          "execution_count": 1
        }
      ],
      "source": [
        "from requests import get\n",
        "url =\"https://tradestie.com/api/v1/apps/reddit?date=2023-8-01\"\n",
        "\n",
        "resp = get(url)\n",
        "\n",
        "resp.status_code"
      ]
    },
    {
      "cell_type": "code",
      "source": [
        "resp.text"
      ],
      "metadata": {
        "colab": {
          "base_uri": "https://localhost:8080/",
          "height": 123
        },
        "id": "Qunza6YoKmZN",
        "outputId": "0b6ea011-43bf-43fa-fa7d-d48fbbf28f07"
      },
      "execution_count": 2,
      "outputs": [
        {
          "output_type": "execute_result",
          "data": {
            "text/plain": [
              "'[{\"no_of_comments\":232,\"sentiment\":\"Bullish\",\"sentiment_score\":0.07,\"ticker\":\"AMD\"},{\"no_of_comments\":89,\"sentiment\":\"Bullish\",\"sentiment_score\":0.123,\"ticker\":\"AI\"},{\"no_of_comments\":51,\"sentiment\":\"Bullish\",\"sentiment_score\":0.061,\"ticker\":\"PLTR\"},{\"no_of_comments\":45,\"sentiment\":\"Bearish\",\"sentiment_score\":-0.044,\"ticker\":\"UK\"},{\"no_of_comments\":23,\"sentiment\":\"Bullish\",\"sentiment_score\":0.039,\"ticker\":\"DIS\"},{\"no_of_comments\":22,\"sentiment\":\"Bullish\",\"sentiment_score\":0.001,\"ticker\":\"NVDA\"},{\"no_of_comments\":18,\"sentiment\":\"Bullish\",\"sentiment_score\":0.032,\"ticker\":\"TSLA\"},{\"no_of_comments\":18,\"sentiment\":\"Bullish\",\"sentiment_score\":0.174,\"ticker\":\"AAPL\"},{\"no_of_comments\":17,\"sentiment\":\"Bullish\",\"sentiment_score\":0.15,\"ticker\":\"QQQ\"},{\"no_of_comments\":17,\"sentiment\":\"Bullish\",\"sentiment_score\":0.069,\"ticker\":\"PYPL\"},{\"no_of_comments\":16,\"sentiment\":\"Bullish\",\"sentiment_score\":0.08,\"ticker\":\"TLRY\"},{\"no_of_comments\":16,\"sentiment\":\"Bullish\",\"sentiment_score\":0.002,\"ticker\":\"AA\"},{\"no_of_comments\":15,\"sentiment\":\"Bullish\",\"sentiment_score\":0.025,\"ticker\":\"RTX\"},{\"no_of_comments\":14,\"sentiment\":\"Bearish\",\"sentiment_score\":-0.096,\"ticker\":\"UBER\"},{\"no_of_comments\":13,\"sentiment\":\"Bullish\",\"sentiment_score\":0.14,\"ticker\":\"TV\"},{\"no_of_comments\":12,\"sentiment\":\"Bullish\",\"sentiment_score\":0.119,\"ticker\":\"YELL\"},{\"no_of_comments\":9,\"sentiment\":\"Bullish\",\"sentiment_score\":0.003,\"ticker\":\"SBUX\"},{\"no_of_comments\":8,\"sentiment\":\"Bearish\",\"sentiment_score\":-0.004,\"ticker\":\"BUD\"},{\"no_of_comments\":8,\"sentiment\":\"Bearish\",\"sentiment_score\":-0.046,\"ticker\":\"PINS\"},{\"no_of_comments\":8,\"sentiment\":\"Bullish\",\"sentiment_score\":0.284,\"ticker\":\"CLOV\"},{\"no_of_comments\":7,\"sentiment\":\"Bullish\",\"sentiment_score\":0.274,\"ticker\":\"CAT\"},{\"no_of_comments\":7,\"sentiment\":\"Bullish\",\"sentiment_score\":0.239,\"ticker\":\"HOOD\"},{\"no_of_comments\":7,\"sentiment\":\"Bearish\",\"sentiment_score\":-0.38,\"ticker\":\"DISH\"},{\"no_of_comments\":6,\"sentiment\":\"Bullish\",\"sentiment_score\":0.168,\"ticker\":\"NKLA\"},{\"no_of_comments\":6,\"sentiment\":\"Bullish\",\"sentiment_score\":0.496,\"ticker\":\"AMC\"},{\"no_of_comments\":6,\"sentiment\":\"Bullish\",\"sentiment_score\":0.092,\"ticker\":\"TQQQ\"},{\"no_of_comments\":6,\"sentiment\":\"Bearish\",\"sentiment_score\":-0.087,\"ticker\":\"PDT\"},{\"no_of_comments\":6,\"sentiment\":\"Bearish\",\"sentiment_score\":-0.201,\"ticker\":\"IP\"},{\"no_of_comments\":6,\"sentiment\":\"Bearish\",\"sentiment_score\":-0.0,\"ticker\":\"MTCH\"},{\"no_of_comments\":6,\"sentiment\":\"Bearish\",\"sentiment_score\":-0.052,\"ticker\":\"TLT\"},{\"no_of_comments\":5,\"sentiment\":\"Bullish\",\"sentiment_score\":0.385,\"ticker\":\"BYND\"},{\"no_of_comments\":5,\"sentiment\":\"Bearish\",\"sentiment_score\":0.0,\"ticker\":\"ON\"},{\"no_of_comments\":4,\"sentiment\":\"Bearish\",\"sentiment_score\":-0.192,\"ticker\":\"FUBO\"},{\"no_of_comments\":4,\"sentiment\":\"Bullish\",\"sentiment_score\":0.642,\"ticker\":\"MSCI\"},{\"no_of_comments\":4,\"sentiment\":\"Bullish\",\"sentiment_score\":0.07,\"ticker\":\"NOW\"},{\"no_of_comments\":4,\"sentiment\":\"Bullish\",\"sentiment_score\":0.189,\"ticker\":\"NCLH\"},{\"no_of_comments\":4,\"sentiment\":\"Bullish\",\"sentiment_score\":0.293,\"ticker\":\"NFLX\"},{\"no_of_comments\":4,\"sentiment\":\"Bearish\",\"sentiment_score\":0.0,\"ticker\":\"MSFT\"},{\"no_of_comments\":4,\"sentiment\":\"Bearish\",\"sentiment_score\":-0.095,\"ticker\":\"ELF\"},{\"no_of_comments\":3,\"sentiment\":\"Bullish\",\"sentiment_score\":0.608,\"ticker\":\"DKNG\"},{\"no_of_comments\":3,\"sentiment\":\"Bullish\",\"sentiment_score\":0.741,\"ticker\":\"BA\"},{\"no_of_comments\":3,\"sentiment\":\"Bearish\",\"sentiment_score\":-0.059,\"ticker\":\"SQQQ\"},{\"no_of_comments\":3,\"sentiment\":\"Bearish\",\"sentiment_score\":0.0,\"ticker\":\"EA\"},{\"no_of_comments\":3,\"sentiment\":\"Bullish\",\"sentiment_score\":0.416,\"ticker\":\"CVNA\"},{\"no_of_comments\":3,\"sentiment\":\"Bullish\",\"sentiment_score\":0.036,\"ticker\":\"ET\"},{\"no_of_comments\":3,\"sentiment\":\"Bullish\",\"sentiment_score\":0.279,\"ticker\":\"BABA\"},{\"no_of_comments\":3,\"sentiment\":\"Bullish\",\"sentiment_score\":0.091,\"ticker\":\"NIO\"},{\"no_of_comments\":3,\"sentiment\":\"Bullish\",\"sentiment_score\":0.127,\"ticker\":\"UPST\"},{\"no_of_comments\":3,\"sentiment\":\"Bullish\",\"sentiment_score\":0.808,\"ticker\":\"IRS\"},{\"no_of_comments\":3,\"sentiment\":\"Bearish\",\"sentiment_score\":-0.184,\"ticker\":\"SPCE\"}]\\n'"
            ],
            "application/vnd.google.colaboratory.intrinsic+json": {
              "type": "string"
            }
          },
          "metadata": {},
          "execution_count": 2
        }
      ]
    },
    {
      "cell_type": "code",
      "source": [
        "print(resp.json()[1]['ticker'])\n",
        "print(resp.json()[1]['sentiment'])\n",
        "print(resp.json()[1]['no_of_comments'])"
      ],
      "metadata": {
        "colab": {
          "base_uri": "https://localhost:8080/"
        },
        "id": "84aatQ8WKqBc",
        "outputId": "c807cf17-5be4-4f1d-ecf1-ded65d79ea74"
      },
      "execution_count": 3,
      "outputs": [
        {
          "output_type": "stream",
          "name": "stdout",
          "text": [
            "AI\n",
            "Bullish\n",
            "89\n"
          ]
        }
      ]
    },
    {
      "cell_type": "code",
      "source": [
        "stock_info = []\n",
        "\n",
        "for i in range(8):\n",
        "  url = f\"https://tradestie.com/api/v1/apps/reddit?date=2023-{i+1}-01\"\n",
        "  resp = get(url)\n",
        "  json_data = resp.json()\n",
        "\n",
        "  if resp.status_code == 200:\n",
        "    stock_info.append(\n",
        "        (json_data[1]['ticker'],\n",
        "        json_data[1]['sentiment'],\n",
        "        json_data[1]['no_of_comments'])\n",
        "        )"
      ],
      "metadata": {
        "id": "qmRJ_4zxKtkm"
      },
      "execution_count": 4,
      "outputs": []
    },
    {
      "cell_type": "code",
      "source": [
        "print(\"Top stock discussed on Reddit subeddit - Wallstreetbets in 2023 (Jan - Sep)\")\n",
        "print(stock_info)"
      ],
      "metadata": {
        "colab": {
          "base_uri": "https://localhost:8080/"
        },
        "id": "b8lLca9QKxsj",
        "outputId": "6e5c9f73-4d18-4373-b93a-4e9e4bb20ae4"
      },
      "execution_count": 5,
      "outputs": [
        {
          "output_type": "stream",
          "name": "stdout",
          "text": [
            "Top stock discussed on Reddit subeddit - Wallstreetbets in 2023 (Jan - Sep)\n",
            "[('AMD', 'Bullish', 10), ('TSLA', 'Bullish', 45), ('AI', 'Bullish', 67), ('AI', 'Bearish', 30), ('JPM', 'Bullish', 103), ('NVDA', 'Bearish', 88), ('AAPL', 'Bullish', 28), ('AI', 'Bullish', 89)]\n"
          ]
        }
      ]
    }
  ]
}