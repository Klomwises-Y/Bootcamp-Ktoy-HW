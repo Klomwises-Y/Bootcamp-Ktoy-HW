{
  "nbformat": 4,
  "nbformat_minor": 0,
  "metadata": {
    "colab": {
      "provenance": []
    },
    "kernelspec": {
      "name": "python3",
      "display_name": "Python 3"
    },
    "language_info": {
      "name": "python"
    }
  },
  "cells": [
    {
      "cell_type": "code",
      "execution_count": null,
      "metadata": {
        "colab": {
          "base_uri": "https://localhost:8080/"
        },
        "id": "q_8SavqZKbGv",
        "outputId": "276c986e-e5e0-49d7-eb62-8545c3e2f9ec"
      },
      "outputs": [
        {
          "output_type": "execute_result",
          "data": {
            "text/plain": [
              "200"
            ]
          },
          "metadata": {},
          "execution_count": 1
        }
      ],
      "source": [
        "from requests import get\n",
        "url =\"https://tradestie.com/api/v1/apps/reddit?date=2023-8-01\"\n",
        "\n",
        "resp = get(url)\n",
        "\n",
        "resp.status_code"
      ]
    },
    {
      "cell_type": "code",
      "source": [
        "print(resp.json()[1]['ticker'])\n",
        "print(resp.json()[1]['sentiment'])\n",
        "print(resp.json()[1]['no_of_comments'])"
      ],
      "metadata": {
        "colab": {
          "base_uri": "https://localhost:8080/"
        },
        "id": "84aatQ8WKqBc",
        "outputId": "c807cf17-5be4-4f1d-ecf1-ded65d79ea74"
      },
      "execution_count": null,
      "outputs": [
        {
          "output_type": "stream",
          "name": "stdout",
          "text": [
            "AI\n",
            "Bullish\n",
            "89\n"
          ]
        }
      ]
    },
    {
      "cell_type": "code",
      "source": [
        "stock_info = []\n",
        "\n",
        "for i in range(8):\n",
        "  url = f\"https://tradestie.com/api/v1/apps/reddit?date=2023-{i+1}-01\"\n",
        "  resp = get(url)\n",
        "  json_data = resp.json()\n",
        "\n",
        "  if resp.status_code == 200:\n",
        "    stock_info.append(\n",
        "        (json_data[1]['ticker'],\n",
        "        json_data[1]['sentiment'],\n",
        "        json_data[1]['no_of_comments'])\n",
        "        )"
      ],
      "metadata": {
        "id": "qmRJ_4zxKtkm"
      },
      "execution_count": null,
      "outputs": []
    },
    {
      "cell_type": "code",
      "source": [
        "print(\"Top stock discussed on Reddit subeddit - Wallstreetbets in 2023 (Jan - Sep)\")\n",
        "print(stock_info)"
      ],
      "metadata": {
        "colab": {
          "base_uri": "https://localhost:8080/"
        },
        "id": "b8lLca9QKxsj",
        "outputId": "6e5c9f73-4d18-4373-b93a-4e9e4bb20ae4"
      },
      "execution_count": null,
      "outputs": [
        {
          "output_type": "stream",
          "name": "stdout",
          "text": [
            "Top stock discussed on Reddit subeddit - Wallstreetbets in 2023 (Jan - Sep)\n",
            "[('AMD', 'Bullish', 10), ('TSLA', 'Bullish', 45), ('AI', 'Bullish', 67), ('AI', 'Bearish', 30), ('JPM', 'Bullish', 103), ('NVDA', 'Bearish', 88), ('AAPL', 'Bullish', 28), ('AI', 'Bullish', 89)]\n"
          ]
        }
      ]
    }
  ]
}